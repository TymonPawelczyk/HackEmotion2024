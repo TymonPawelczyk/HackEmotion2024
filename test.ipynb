{
 "cells": [
  {
   "cell_type": "code",
   "execution_count": 32,
   "metadata": {},
   "outputs": [],
   "source": [
    "import pandas as pd\n",
    "import os\n",
    "path_to_csv = os.getcwd() + \"/csv\"\n",
    "user = pd.read_csv(path_to_csv + \"/user.csv\", sep=\" \")\n",
    "user_sessions = pd.read_csv(path_to_csv + \"/user_sessions.csv\", sep=\" \")\n",
    "session = pd.read_csv(path_to_csv + \"/session.csv\", sep=\" \")\n",
    "emotion = pd.read_csv(path_to_csv + \"/emotion.csv\", sep=\" \")"
   ]
  },
  {
   "cell_type": "code",
   "execution_count": 37,
   "metadata": {},
   "outputs": [
    {
     "name": "stdout",
     "output_type": "stream",
     "text": [
      "1 : 50.0%\n",
      "2 : 100.0%\n",
      "4 : 60.0%\n",
      "5 : 58.82352941176471%\n",
      "6 : 77.77777777777779%\n",
      "7 : 58.333333333333336%\n",
      "8 : 36.36363636363637%\n",
      "9 : 60.0%\n",
      "10 : 44.44444444444444%\n",
      "11 : 90.0%\n",
      "13 : 66.66666666666666%\n",
      "14 : 0.0%\n"
     ]
    }
   ],
   "source": [
    "prev_session_id = int(session.iloc[0]['id'])\n",
    "\n",
    "quest_quant = 0\n",
    "good_answ = 0\n",
    "for row in session.iterrows():\n",
    "    # print(row)\n",
    "    # print(session.at[row[0], 'id'])\n",
    "    current_session_id = session.at[row[0], 'id']\n",
    "\n",
    "    if (current_session_id == prev_session_id):\n",
    "        # agregacja danych dla sesji id\n",
    "        quest_quant += 1\n",
    "        # checking if in that session it was a correct answer\n",
    "        if(session.at[row[0], 'guess'] == session.at[row[0], 'correct']):\n",
    "            good_answ += 1\n",
    "            \n",
    "    else:\n",
    "        # print(\"Good answers: \" + str(good_answ))\n",
    "        print(f\"{prev_session_id} : {good_answ/quest_quant * 100}%\")\n",
    "        quest_quant = 1\n",
    "        good_answ = 0\n",
    "        if(session.at[row[0], 'guess'] == session.at[row[0], 'correct']):\n",
    "            good_answ += 1\n",
    "    prev_session_id = current_session_id\n",
    "\n",
    "print(f\"{current_session_id} : {good_answ/quest_quant * 100}%\")\n",
    "\n"
   ]
  },
  {
   "cell_type": "code",
   "execution_count": null,
   "metadata": {},
   "outputs": [],
   "source": []
  }
 ],
 "metadata": {
  "kernelspec": {
   "display_name": "Python 3",
   "language": "python",
   "name": "python3"
  },
  "language_info": {
   "codemirror_mode": {
    "name": "ipython",
    "version": 3
   },
   "file_extension": ".py",
   "mimetype": "text/x-python",
   "name": "python",
   "nbconvert_exporter": "python",
   "pygments_lexer": "ipython3",
   "version": "3.12.2"
  }
 },
 "nbformat": 4,
 "nbformat_minor": 2
}
